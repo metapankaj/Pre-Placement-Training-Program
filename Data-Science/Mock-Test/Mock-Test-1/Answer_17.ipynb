{
 "cells": [
  {
   "cell_type": "markdown",
   "id": "245c0816",
   "metadata": {},
   "source": [
    "**17. Write a function that takes a list of numbers as input and returns a new list containing only the even numbers from the input list. Use list comprehension to solve this problem.**\n",
    "\n",
    "Example:\n",
    "\n",
    "Input: [1, 2, 3, 4, 5, 6, 7, 8, 9, 10]\n",
    "\n",
    "Output: [2, 4, 6, 8, 10]"
   ]
  },
  {
   "cell_type": "code",
   "execution_count": 1,
   "id": "cf7fdb48",
   "metadata": {},
   "outputs": [
    {
     "name": "stdout",
     "output_type": "stream",
     "text": [
      "Enter a list of numbers, separated by commas: 1,2,3,4,5,6,7,8,9,10\n",
      "[2, 4, 6, 8, 10]\n"
     ]
    }
   ],
   "source": [
    "def get_even_numbers():\n",
    "    numbers = input(\"Enter a list of numbers, separated by commas: \").split(\",\")\n",
    "    numbers = [int(num) for num in numbers]\n",
    "    return [num for num in numbers if num % 2 == 0]\n",
    "\n",
    "output_list = get_even_numbers()\n",
    "print(output_list)"
   ]
  }
 ],
 "metadata": {
  "kernelspec": {
   "display_name": "Python 3 (ipykernel)",
   "language": "python",
   "name": "python3"
  },
  "language_info": {
   "codemirror_mode": {
    "name": "ipython",
    "version": 3
   },
   "file_extension": ".py",
   "mimetype": "text/x-python",
   "name": "python",
   "nbconvert_exporter": "python",
   "pygments_lexer": "ipython3",
   "version": "3.11.4"
  }
 },
 "nbformat": 4,
 "nbformat_minor": 5
}
