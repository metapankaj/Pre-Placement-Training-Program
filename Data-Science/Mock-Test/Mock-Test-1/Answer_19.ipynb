{
 "cells": [
  {
   "cell_type": "markdown",
   "id": "08d95f3e",
   "metadata": {},
   "source": [
    "**19. Write a function called ‘calculate_mean’ that takes a list of numbers as input and returns the mean (average) of the numbers. The function should calculate the mean using the sum of the numbers divided by the total count.**\n",
    "\n",
    "<br>Example:<br>\n",
    "\n",
    "\n"
   ]
  },
  {
   "cell_type": "code",
   "execution_count": 1,
   "id": "44ffc64f",
   "metadata": {},
   "outputs": [],
   "source": [
    "def calculate_mean(numbers):\n",
    "    total = sum(numbers)\n",
    "    count = len(numbers)\n",
    "    mean = total / count\n",
    "    return mean"
   ]
  },
  {
   "cell_type": "markdown",
   "id": "73379476",
   "metadata": {},
   "source": [
    "<br>data = [10, 15, 20, 25, 30]\n",
    "<br>mean_value = calculate_mean(data)\n",
    "<br>print(\"Mean:\", mean_value)\n",
    "\n",
    "<br>Output:\n",
    "<br>Mean: 20.0"
   ]
  },
  {
   "cell_type": "markdown",
   "id": "05b28fbb",
   "metadata": {},
   "source": [
    "**ANSWER**"
   ]
  },
  {
   "cell_type": "code",
   "execution_count": 2,
   "id": "271d5310",
   "metadata": {},
   "outputs": [
    {
     "name": "stdout",
     "output_type": "stream",
     "text": [
      "Enter a list of numbers, separated by commas: 10,15,20,25,30\n",
      "20.0\n"
     ]
    }
   ],
   "source": [
    "def calculate_mean():\n",
    "    numbers = input(\"Enter a list of numbers, separated by commas: \").split(\",\")\n",
    "    numbers = [float(num) for num in numbers]\n",
    "    total_sum = sum(numbers)\n",
    "    count = len(numbers)\n",
    "    if count == 0:\n",
    "        return 0  # To handle an empty list\n",
    "    mean = total_sum / count\n",
    "    return mean\n",
    "\n",
    "mean = calculate_mean()\n",
    "print(mean)"
   ]
  }
 ],
 "metadata": {
  "kernelspec": {
   "display_name": "Python 3 (ipykernel)",
   "language": "python",
   "name": "python3"
  },
  "language_info": {
   "codemirror_mode": {
    "name": "ipython",
    "version": 3
   },
   "file_extension": ".py",
   "mimetype": "text/x-python",
   "name": "python",
   "nbconvert_exporter": "python",
   "pygments_lexer": "ipython3",
   "version": "3.11.4"
  }
 },
 "nbformat": 4,
 "nbformat_minor": 5
}
