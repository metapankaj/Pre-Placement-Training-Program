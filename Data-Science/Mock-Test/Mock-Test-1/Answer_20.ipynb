{
 "cells": [
  {
   "cell_type": "markdown",
   "id": "3213d801",
   "metadata": {},
   "source": [
    "**20. Write a function called ‘perform_hypothesis_test’ that takes two lists of numbers as input, representing two samples. The function should perform a two-sample t-test and return the p-value. Use the ‘scipy.stats’ module in Python to calculate the t-test and p-value.**\n",
    "\n",
    "Example:\n"
   ]
  },
  {
   "cell_type": "code",
   "execution_count": 1,
   "id": "152e3ae3",
   "metadata": {},
   "outputs": [],
   "source": [
    "from scipy import stats\n",
    "\n",
    "def perform_hypothesis_test(sample1, sample2):\n",
    "    t_statistic, p_value = stats.ttest_ind(sample1, sample2)\n",
    "    return p_value"
   ]
  },
  {
   "cell_type": "markdown",
   "id": "35b1c93e",
   "metadata": {},
   "source": [
    "<br>sample1 = [5, 10, 15, 20, 25]\n",
    "<br>sample2 = [10, 20, 30, 40, 50]\n",
    "<br>p_value = perform_hypothesis_test(sample1, sample2)\n",
    "<br>print(\"P-value:\", p_value)\n",
    "\n",
    "<br>Output:\n",
    "<br>P-value: 0.1064706396450037"
   ]
  },
  {
   "cell_type": "markdown",
   "id": "e523a771",
   "metadata": {},
   "source": [
    "**ANSWER**"
   ]
  },
  {
   "cell_type": "code",
   "execution_count": 2,
   "id": "74ca965b",
   "metadata": {},
   "outputs": [
    {
     "name": "stdout",
     "output_type": "stream",
     "text": [
      "Enter sample 1 data separated by commas: 5,7,9,11,13,15\n",
      "Enter sample 2 data separated by commas: 2,4,6,8,10,12\n",
      "P-value: 0.19506635912696582\n"
     ]
    }
   ],
   "source": [
    "from scipy import stats\n",
    "\n",
    "def perform_hypothesis_test(sample1, sample2):\n",
    "    t_statistic, p_value = stats.ttest_ind(sample1, sample2)\n",
    "    return p_value\n",
    "\n",
    "sample1_input = input(\"Enter sample 1 data separated by commas: \")\n",
    "sample1 = [float(x) for x in sample1_input.split(\",\")]\n",
    "\n",
    "sample2_input = input(\"Enter sample 2 data separated by commas: \")\n",
    "sample2 = [float(x) for x in sample2_input.split(\",\")]\n",
    "\n",
    "p_value = perform_hypothesis_test(sample1, sample2)\n",
    "print(\"P-value:\", p_value)"
   ]
  }
 ],
 "metadata": {
  "kernelspec": {
   "display_name": "Python 3 (ipykernel)",
   "language": "python",
   "name": "python3"
  },
  "language_info": {
   "codemirror_mode": {
    "name": "ipython",
    "version": 3
   },
   "file_extension": ".py",
   "mimetype": "text/x-python",
   "name": "python",
   "nbconvert_exporter": "python",
   "pygments_lexer": "ipython3",
   "version": "3.11.4"
  }
 },
 "nbformat": 4,
 "nbformat_minor": 5
}
