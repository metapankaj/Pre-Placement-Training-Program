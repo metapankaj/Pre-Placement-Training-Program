{
 "cells": [
  {
   "cell_type": "markdown",
   "id": "1a8e1054",
   "metadata": {},
   "source": [
    "**You are given two non-empty linked lists representing two non-negative integers. The digits are stored in reverse order, and each of their nodes contains a single digit. Add the two numbers and return the sum as a linked list.**\n",
    "\n",
    "You may assume the two numbers do not contain any leading zero, except the number 0 itself.\n",
    "\n",
    "\n",
    "Example 1:\n",
    "\n",
    "Input: l1 = [2,4,3], l2 = [5,6,4] Output: [7,0,8] Explanation: 342 + 465 = 807.\n",
    "\n",
    "Example 2:\n",
    "\n",
    "Input: l1 = [0], l2 = [0] Output: [0]\n",
    "\n",
    "Example 3:\n",
    "\n",
    "Input: l1 = [9,9,9,9,9,9,9], l2 = [9,9,9,9] Output: [8,9,9,9,0,0,0,1]\n",
    "\n",
    " \n",
    "\n",
    "Constraints:\n",
    "\n",
    "The number of nodes in each linked list is in the range [1, 100].\n",
    "0 <= Node.val <= 9 It is guaranteed that the list represents a number that does not have leading zeros.\n",
    "\n"
   ]
  },
  {
   "cell_type": "code",
   "execution_count": 1,
   "id": "67ff4bd7",
   "metadata": {},
   "outputs": [],
   "source": [
    "class ListNode:\n",
    "    def __init__(self, val=0, next=None):\n",
    "        self.val = val\n",
    "        self.next = next\n",
    "\n",
    "def addTwoNumbers(l1, l2):\n",
    "    dummy = ListNode()\n",
    "    current = dummy\n",
    "    carry = 0\n",
    "    \n",
    "    while l1 or l2 or carry:\n",
    "        sum = carry\n",
    "        \n",
    "        if l1:\n",
    "            sum += l1.val\n",
    "            l1 = l1.next\n",
    "        if l2:\n",
    "            sum += l2.val\n",
    "            l2 = l2.next\n",
    "        \n",
    "        carry = sum // 10\n",
    "        current.next = ListNode(sum % 10)\n",
    "        current = current.next\n",
    "    \n",
    "    return dummy.next"
   ]
  },
  {
   "cell_type": "code",
   "execution_count": 2,
   "id": "71dc8577",
   "metadata": {},
   "outputs": [
    {
     "name": "stdout",
     "output_type": "stream",
     "text": [
      "7 0 8 "
     ]
    }
   ],
   "source": [
    "# Example 1\n",
    "l1 = ListNode(2)\n",
    "l1.next = ListNode(4)\n",
    "l1.next.next = ListNode(3)\n",
    "\n",
    "l2 = ListNode(5)\n",
    "l2.next = ListNode(6)\n",
    "l2.next.next = ListNode(4)\n",
    "\n",
    "result = addTwoNumbers(l1, l2)\n",
    "while result:\n",
    "    print(result.val, end=\" \")\n",
    "    result = result.next\n",
    "# Output: 7 0 8"
   ]
  },
  {
   "cell_type": "code",
   "execution_count": 3,
   "id": "51abf67e",
   "metadata": {},
   "outputs": [
    {
     "name": "stdout",
     "output_type": "stream",
     "text": [
      "0 "
     ]
    }
   ],
   "source": [
    "# Example 2\n",
    "l1 = ListNode(0)\n",
    "l2 = ListNode(0)\n",
    "\n",
    "result = addTwoNumbers(l1, l2)\n",
    "while result:\n",
    "    print(result.val, end=\" \")\n",
    "    result = result.next\n",
    "# Output: 0"
   ]
  },
  {
   "cell_type": "code",
   "execution_count": 4,
   "id": "78918d15",
   "metadata": {},
   "outputs": [
    {
     "name": "stdout",
     "output_type": "stream",
     "text": [
      "8 9 9 9 0 0 0 1 "
     ]
    }
   ],
   "source": [
    "# Example 3\n",
    "l1 = ListNode(9)\n",
    "l1.next = ListNode(9)\n",
    "l1.next.next = ListNode(9)\n",
    "l1.next.next.next = ListNode(9)\n",
    "l1.next.next.next.next = ListNode(9)\n",
    "l1.next.next.next.next.next = ListNode(9)\n",
    "l1.next.next.next.next.next.next = ListNode(9)\n",
    "\n",
    "l2 = ListNode(9)\n",
    "l2.next = ListNode(9)\n",
    "l2.next.next = ListNode(9)\n",
    "l2.next.next.next = ListNode(9)\n",
    "\n",
    "result = addTwoNumbers(l1, l2)\n",
    "while result:\n",
    "    print(result.val, end=\" \")\n",
    "    result = result.next\n",
    "# Output: 8 9 9 9 0 0 0 1"
   ]
  }
 ],
 "metadata": {
  "kernelspec": {
   "display_name": "Python 3 (ipykernel)",
   "language": "python",
   "name": "python3"
  },
  "language_info": {
   "codemirror_mode": {
    "name": "ipython",
    "version": 3
   },
   "file_extension": ".py",
   "mimetype": "text/x-python",
   "name": "python",
   "nbconvert_exporter": "python",
   "pygments_lexer": "ipython3",
   "version": "3.10.9"
  }
 },
 "nbformat": 4,
 "nbformat_minor": 5
}
