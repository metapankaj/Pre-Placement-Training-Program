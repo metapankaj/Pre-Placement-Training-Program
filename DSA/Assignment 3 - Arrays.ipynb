{
 "cells": [
  {
   "cell_type": "markdown",
   "id": "0d482d93",
   "metadata": {},
   "source": [
    "**Question 1**.\n",
    "\n",
    "**Given an integer array nums of length n and an integer target, find three integers\n",
    "in nums such that the sum is closest to the target.\n",
    "Return the sum of the three integers.**\n",
    "\n",
    "You may assume that each input would have exactly one solution.\n",
    "\n",
    "Example 1:\n",
    "Input: nums = [-1,2,1,-4], target = 1\n",
    "Output: 2\n",
    "\n",
    "Explanation: The sum that is closest to the target is 2. (-1 + 2 + 1 = 2)."
   ]
  },
  {
   "cell_type": "code",
   "execution_count": 1,
   "id": "fb8abd37",
   "metadata": {},
   "outputs": [],
   "source": [
    "def threeSumClosest(nums, target):\n",
    "    nums = list(nums)\n",
    "    nums.sort()  \n",
    "    closest_sum = float('inf')  \n",
    "    \n",
    "    for i in range(len(nums) - 2):\n",
    "        left = i + 1\n",
    "        right = len(nums) - 1\n",
    "\n",
    "        while left < right:\n",
    "            curr_sum = nums[i] + nums[left] + nums[right]\n",
    "            if curr_sum == target:\n",
    "                return curr_sum\n",
    "\n",
    "            if abs(curr_sum - target) < abs(closest_sum - target):\n",
    "                closest_sum = curr_sum\n",
    "\n",
    "            if curr_sum < target:\n",
    "                left += 1\n",
    "            else:\n",
    "                right -= 1\n",
    "\n",
    "    return closest_sum if closest_sum != float('inf') else 0"
   ]
  },
  {
   "cell_type": "code",
   "execution_count": 2,
   "id": "a5e08d0a",
   "metadata": {},
   "outputs": [
    {
     "data": {
      "text/plain": [
       "3"
      ]
     },
     "execution_count": 2,
     "metadata": {},
     "output_type": "execute_result"
    }
   ],
   "source": [
    "#example usage1\n",
    "\n",
    "nums = [2,1,3,-4,5]\n",
    "target = 3\n",
    "threeSumClosest(nums,target)"
   ]
  },
  {
   "cell_type": "code",
   "execution_count": 3,
   "id": "fe91afb0",
   "metadata": {},
   "outputs": [
    {
     "data": {
      "text/plain": [
       "2"
      ]
     },
     "execution_count": 3,
     "metadata": {},
     "output_type": "execute_result"
    }
   ],
   "source": [
    "#example usage 2\n",
    "\n",
    "nums = [3,4,7,-1,0]\n",
    "target = 1\n",
    "threeSumClosest(nums,target)"
   ]
  },
  {
   "cell_type": "markdown",
   "id": "8ff99a43",
   "metadata": {},
   "source": [
    "**Question 2**\n",
    "\n",
    "**Given an array nums of n integers, return an array of all the unique quadruplets\n",
    "[nums[a], nums[b], nums[c], nums[d]] such that:**\n",
    "\n",
    "   * 0 <= a, b, c, d < n\n",
    "   * a, b, c, and d are distinct.\n",
    "   * nums[a] + nums[b] + nums[c] + nums[d] == target\n",
    "\n",
    "\n",
    "You may return the answer in any order.\n",
    "\n",
    "Example 1:\n",
    "Input: nums = [1,0,-1,0,-2,2], target = 0\n",
    "Output: [[-2,-1,1,2],[-2,0,0,2],[-1,0,0,1]]"
   ]
  },
  {
   "cell_type": "code",
   "execution_count": 4,
   "id": "1aade7b0",
   "metadata": {},
   "outputs": [],
   "source": [
    "from typing import List\n",
    "\n",
    "def fourSum(nums: List[int], target: int) -> List[List[int]]:\n",
    "    ans = list()\n",
    "    nums.sort()\n",
    "    \n",
    "    for i in range(len(nums)):    \n",
    "        for j in range(i+1, len(nums)):\n",
    "            left, right = j+1, len(nums)-1\n",
    "            \n",
    "            while left < right:\n",
    "                \n",
    "                num_sum = nums[i] + nums[j] + nums[left] + nums[right]\n",
    "                \n",
    "                sub_arr = [nums[i], nums[j], nums[left], nums[right]]\n",
    "                \n",
    "                if num_sum == target and sub_arr not in ans:\n",
    "                    ans.append(sub_arr)\n",
    "                    right -= 1\n",
    "                    left += 1\n",
    "                    \n",
    "                elif num_sum > target:\n",
    "                    right -= 1\n",
    "                \n",
    "                else:\n",
    "                    left += 1\n",
    "                    \n",
    "    return ans"
   ]
  },
  {
   "cell_type": "code",
   "execution_count": 5,
   "id": "134c2b7a",
   "metadata": {},
   "outputs": [
    {
     "data": {
      "text/plain": [
       "[[-2, -1, 1, 2], [-2, 0, 0, 2], [-1, 0, 0, 1]]"
      ]
     },
     "execution_count": 5,
     "metadata": {},
     "output_type": "execute_result"
    }
   ],
   "source": [
    "nums = [1,0,-1,0,-2,2]\n",
    "target = 0\n",
    "fourSum(nums, target)"
   ]
  },
  {
   "cell_type": "code",
   "execution_count": 6,
   "id": "273ec068",
   "metadata": {},
   "outputs": [
    {
     "data": {
      "text/plain": [
       "[[2, 2, 2, 2]]"
      ]
     },
     "execution_count": 6,
     "metadata": {},
     "output_type": "execute_result"
    }
   ],
   "source": [
    "nums = [2,2,2,2,2]\n",
    "target = 8\n",
    "fourSum(nums, target)"
   ]
  },
  {
   "cell_type": "markdown",
   "id": "15c3f1be",
   "metadata": {},
   "source": [
    "**Question 3**\n",
    "\n",
    "**A permutation of an array of integers is an arrangement of its members into a\n",
    "sequence or linear order.**\n",
    "\n",
    "For example, for arr = [1,2,3], the following are all the permutations of arr:\n",
    "[1,2,3], [1,3,2], [2, 1, 3], [2, 3, 1], [3,1,2], [3,2,1].\n",
    "\n",
    "The next permutation of an array of integers is the next lexicographically greater\n",
    "permutation of its integer. More formally, if all the permutations of the array are\n",
    "sorted in one container according to their lexicographical order, then the next\n",
    "permutation of that array is the permutation that follows it in the sorted container.\n",
    "\n",
    "If such an arrangement is not possible, the array must be rearranged as the\n",
    "lowest possible order (i.e., sorted in ascending order).\n",
    "\n",
    "● For example, the next permutation of arr = [1,2,3] is [1,3,2].\n",
    "● Similarly, the next permutation of arr = [2,3,1] is [3,1,2].\n",
    "● While the next permutation of arr = [3,2,1] is [1,2,3] because [3,2,1] does not\n",
    "have a lexicographical larger rearrangement.\n",
    "\n",
    "Given an array of integers nums, find the next permutation of nums.\n",
    "The replacement must be in place and use only constant extra memory.\n",
    "\n",
    "**Example 1:**\n",
    "Input: nums = [1,2,3]\n",
    "Output: [1,3,2]"
   ]
  },
  {
   "cell_type": "code",
   "execution_count": 7,
   "id": "b030f530",
   "metadata": {},
   "outputs": [],
   "source": [
    "from typing import List\n",
    "\n",
    "def permutation(nums: List[int]) -> List[int]:\n",
    "    \n",
    "    if len(set(nums)) == 1:\n",
    "        return nums\n",
    "    \n",
    "    for i in range(len(nums)-1,0,-1):\n",
    "        if nums[i] > nums[i-1]:\n",
    "            nums[i-1], nums[i] = nums[i], nums[i-1]\n",
    "            return nums\n",
    "    return sorted(nums)"
   ]
  },
  {
   "cell_type": "code",
   "execution_count": 8,
   "id": "d37c454a",
   "metadata": {},
   "outputs": [
    {
     "name": "stdout",
     "output_type": "stream",
     "text": [
      "[0, 1, 2, 3]\n"
     ]
    }
   ],
   "source": [
    "nums = [3,2,1,0]\n",
    "ans = permutation(nums)\n",
    "print(ans)"
   ]
  },
  {
   "cell_type": "markdown",
   "id": "7adf0249",
   "metadata": {},
   "source": [
    "**Question 4\n",
    "Given a sorted array of distinct integers and a target value, return the index if the\n",
    "target is found. If not, return the index where it would be if it were inserted in\n",
    "order.**\n",
    "\n",
    "You must write an algorithm with O(log n) runtime complexity.\n",
    "\n",
    "Example 1:\n",
    "Input: nums = [1,3,5,6], target = 5\n",
    "Output: 2"
   ]
  },
  {
   "cell_type": "code",
   "execution_count": 9,
   "id": "2ed70612",
   "metadata": {},
   "outputs": [],
   "source": [
    "def binary_search(nums: list, target: int):\n",
    "    \n",
    "    if len(nums) == 0:\n",
    "        return -1\n",
    "    \n",
    "    # Initializing left index\n",
    "    left = 0\n",
    "    \n",
    "    # Initializing right index\n",
    "    right = len(nums) - 1\n",
    "    \n",
    "    while left <= right:\n",
    "    \n",
    "        mid = (left + right) // 2\n",
    "        \n",
    "        if target == nums[mid]:\n",
    "            return mid\n",
    "        \n",
    "        elif target < nums[mid]:\n",
    "            right = mid - 1\n",
    "        \n",
    "        elif target > nums[mid]:\n",
    "            left = mid + 1\n",
    "    \n",
    "    return left"
   ]
  },
  {
   "cell_type": "code",
   "execution_count": 10,
   "id": "2cab03ef",
   "metadata": {},
   "outputs": [
    {
     "data": {
      "text/plain": [
       "2"
      ]
     },
     "execution_count": 10,
     "metadata": {},
     "output_type": "execute_result"
    }
   ],
   "source": [
    "nums = [1,3,5,6]\n",
    "target = 4\n",
    "binary_search(nums, target)"
   ]
  },
  {
   "cell_type": "markdown",
   "id": "50feb084",
   "metadata": {},
   "source": [
    "**Question 5 .**\n",
    "\n",
    "**You are given a large integer represented as an integer array digits, where each\n",
    "digits[i] is the ith digit of the integer. The digits are ordered from most significant\n",
    "to least significant in left-to-right order. The large integer does not contain any\n",
    "leading 0's.**\n",
    "\n",
    "Increment the large integer by one and return the resulting array of digits.\n",
    "\n",
    "**Example 1:**\n",
    "Input: digits = [1,2,3]\n",
    "Output: [1,2,4]\n",
    "\n",
    "**Explanation:** The array represents the integer 123.\n",
    "Incrementing by one gives 123 + 1 = 124.\n",
    "Thus, the result should be [1,2,4]."
   ]
  },
  {
   "cell_type": "code",
   "execution_count": 11,
   "id": "27ad51bf",
   "metadata": {},
   "outputs": [],
   "source": [
    "def addOne(nums: List[int]) -> List[int]:\n",
    "    number = int(''.join(map(str, nums))) + 1\n",
    "    return [int(i) for i in str(number)]"
   ]
  },
  {
   "cell_type": "code",
   "execution_count": 12,
   "id": "68901e28",
   "metadata": {},
   "outputs": [
    {
     "data": {
      "text/plain": [
       "[1, 3, 0]"
      ]
     },
     "execution_count": 12,
     "metadata": {},
     "output_type": "execute_result"
    }
   ],
   "source": [
    "addOne([1,2,9])"
   ]
  },
  {
   "cell_type": "markdown",
   "id": "7ee9ec92",
   "metadata": {},
   "source": [
    "**Question 6**\n",
    "\n",
    "**Given a non-empty array of integers nums, every element appears twice except\n",
    "for one. Find that single one.**\n",
    "\n",
    "You must implement a solution with a linear runtime complexity and use only\n",
    "constant extra space.\n",
    "\n",
    "Example 1:\n",
    "Input: nums = [2,2,1]\n",
    "Output: 1"
   ]
  },
  {
   "cell_type": "code",
   "execution_count": 13,
   "id": "667c99b8",
   "metadata": {},
   "outputs": [],
   "source": [
    "def find_single(nums):\n",
    "\n",
    "    # XOR all the elements in the array.\n",
    "    result = 0\n",
    "    for num in nums:\n",
    "        result ^= num\n",
    "\n",
    "    return result"
   ]
  },
  {
   "cell_type": "code",
   "execution_count": 14,
   "id": "20fec294",
   "metadata": {},
   "outputs": [
    {
     "data": {
      "text/plain": [
       "4"
      ]
     },
     "execution_count": 14,
     "metadata": {},
     "output_type": "execute_result"
    }
   ],
   "source": [
    "find_single([2,2,3,3,4])"
   ]
  },
  {
   "cell_type": "markdown",
   "id": "efbd678b",
   "metadata": {},
   "source": [
    "**Question 7**\n",
    "\n",
    "**You are given an inclusive range [lower, upper] and a sorted unique integer array\n",
    "nums, where all elements are within the inclusive range.**\n",
    "\n",
    "**A number x is considered missing if x is in the range [lower, upper] and x is not in\n",
    "nums.**\n",
    "\n",
    "**Return the shortest sorted list of ranges that exactly covers all the missing\n",
    "numbers. That is, no element of nums is included in any of the ranges, and each\n",
    "missing number is covered by one of the ranges.**\n",
    "\n",
    "Example 1:\n",
    "Input: nums = [0,1,3,50,75], lower = 0, upper = 99\n",
    "Output: [[2,2],[4,49],[51,74],[76,99]]\n",
    "\n",
    "Explanation: The ranges are:\n",
    "[2,2]\n",
    "[4,49]\n",
    "[51,74]\n",
    "[76,99]"
   ]
  },
  {
   "cell_type": "code",
   "execution_count": 15,
   "id": "68423428",
   "metadata": {},
   "outputs": [],
   "source": [
    "from typing import List\n",
    "\n",
    "def missingRange(nums: List[int], lower: int, upper: int) -> List[List[int]]:\n",
    "    \n",
    "    result = list()\n",
    "    \n",
    "    for i in range(1, len(nums)): \n",
    "        if nums[i]-nums[i-1] != 1:\n",
    "            result.append([nums[i-1]+1, nums[i]-1])\n",
    "            \n",
    "        if i == len(nums)-1 and nums[i]<upper:\n",
    "            result.append([nums[i]+1, upper])\n",
    "    \n",
    "    return result\n",
    "            "
   ]
  },
  {
   "cell_type": "code",
   "execution_count": 16,
   "id": "cea16332",
   "metadata": {},
   "outputs": [
    {
     "data": {
      "text/plain": [
       "[[2, 2], [4, 49], [51, 74], [76, 99]]"
      ]
     },
     "execution_count": 16,
     "metadata": {},
     "output_type": "execute_result"
    }
   ],
   "source": [
    "nums = [0,1,3,50,75]\n",
    "lower = 0\n",
    "upper = 99\n",
    "missingRange(nums, lower, upper)"
   ]
  },
  {
   "cell_type": "markdown",
   "id": "a69a59d6",
   "metadata": {},
   "source": [
    "**Question 8**\n",
    "\n",
    "**Given an array of meeting time intervals where intervals[i] = [starti, endi],\n",
    "determine if a person could attend all meetings.**\n",
    "\n",
    "**Example 1:**\n",
    "Input: intervals = [[0,30],[5,10],[15,20]]\n",
    "Output: false"
   ]
  },
  {
   "cell_type": "code",
   "execution_count": 17,
   "id": "0dc6c50e",
   "metadata": {},
   "outputs": [
    {
     "name": "stdout",
     "output_type": "stream",
     "text": [
      "False\n"
     ]
    }
   ],
   "source": [
    "class Solution:\n",
    "    def canAttendMeetings(self, intervals: List[List[int]]) -> bool:\n",
    "        intervals.sort(key=lambda x: x[0])\n",
    "\n",
    "        for i in range(1, len(intervals)):\n",
    "            if intervals[i][0] < intervals[i-1][1]:\n",
    "                return False  \n",
    "\n",
    "        return True  \n",
    "\n",
    "    \n",
    "solution = Solution()\n",
    "\n",
    "intervals = [[0, 30], [5, 10], [15, 20]]\n",
    "result = solution.canAttendMeetings(intervals)\n",
    "print(result) "
   ]
  }
 ],
 "metadata": {
  "kernelspec": {
   "display_name": "Python 3 (ipykernel)",
   "language": "python",
   "name": "python3"
  },
  "language_info": {
   "codemirror_mode": {
    "name": "ipython",
    "version": 3
   },
   "file_extension": ".py",
   "mimetype": "text/x-python",
   "name": "python",
   "nbconvert_exporter": "python",
   "pygments_lexer": "ipython3",
   "version": "3.10.9"
  }
 },
 "nbformat": 4,
 "nbformat_minor": 5
}
